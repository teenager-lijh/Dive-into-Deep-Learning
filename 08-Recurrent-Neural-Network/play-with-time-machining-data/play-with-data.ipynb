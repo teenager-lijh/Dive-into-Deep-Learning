{
 "cells": [
  {
   "cell_type": "code",
   "execution_count": 13,
   "metadata": {},
   "outputs": [],
   "source": [
    "import torch\n",
    "from torch import nn\n",
    "from torch.nn import functional as F\n",
    "from d2l import torch as d2l\n",
    "\n",
    "batch_size, num_steps = 32, 35\n",
    "train_iter, vocab = d2l.load_data_time_machine(batch_size, num_steps)"
   ]
  },
  {
   "cell_type": "code",
   "execution_count": 14,
   "metadata": {},
   "outputs": [
    {
     "name": "stdout",
     "output_type": "stream",
     "text": [
      "torch.Size([32, 35])\n",
      "tensor([[ 1,  3,  5, 13,  2,  1, 13,  4, 15,  9,  5,  6]])\n",
      "---------------------------------------------------\n",
      "tensor([[ 3,  5, 13,  2,  1, 13,  4, 15,  9,  5,  6,  2]])\n",
      ".......................................................\n",
      "torch.Size([32, 35])\n",
      "tensor([[ 1,  3, 10,  4, 22,  2, 12, 12,  2, 10,  1, 16]])\n",
      "---------------------------------------------------\n",
      "tensor([[ 3, 10,  4, 22,  2, 12, 12,  2, 10,  1, 16,  7]])\n",
      ".......................................................\n",
      "torch.Size([32, 35])\n",
      "tensor([[ 5,  2,  6,  3,  1,  3,  7,  1,  8, 20,  2,  4]])\n",
      "---------------------------------------------------\n",
      "tensor([[ 2,  6,  3,  1,  3,  7,  1,  8, 20,  2,  4, 23]])\n",
      ".......................................................\n",
      "torch.Size([32, 35])\n",
      "tensor([[ 4,  1, 10,  2, 15,  7,  6, 11,  5,  3,  2,  1]])\n",
      "---------------------------------------------------\n",
      "tensor([[ 1, 10,  2, 15,  7,  6, 11,  5,  3,  2,  1, 13]])\n",
      ".......................................................\n",
      "torch.Size([32, 35])\n",
      "tensor([[19,  2,  8,  1,  8,  9,  7,  6,  2,  1,  4,  6]])\n",
      "---------------------------------------------------\n",
      "tensor([[ 2,  8,  1,  8,  9,  7,  6,  2,  1,  4,  6, 11]])\n",
      ".......................................................\n",
      "torch.Size([32, 35])\n",
      "tensor([[12, 19,  1, 20,  4, 12,  2,  1, 16,  4, 15,  2]])\n",
      "---------------------------------------------------\n",
      "tensor([[19,  1, 20,  4, 12,  2,  1, 16,  4, 15,  2,  1]])\n",
      ".......................................................\n",
      "torch.Size([32, 35])\n",
      "tensor([[ 2, 11,  1,  3,  9,  2, 16,  5, 10,  2,  1, 21]])\n",
      "---------------------------------------------------\n",
      "tensor([[11,  1,  3,  9,  2, 16,  5, 10,  2,  1, 21, 14]])\n",
      ".......................................................\n",
      "torch.Size([32, 35])\n",
      "tensor([[ 8,  7, 16,  3,  1, 10,  4, 11,  5,  4,  6, 15]])\n",
      "---------------------------------------------------\n",
      "tensor([[ 7, 16,  3,  1, 10,  4, 11,  5,  4,  6, 15,  2]])\n",
      ".......................................................\n"
     ]
    }
   ],
   "source": [
    "for X, y in train_iter:\n",
    "    print(X[:1, :12])\n",
    "    print('---------------------------------------------------')\n",
    "    print(y[:1, :12])\n",
    "    print('.......................................................')"
   ]
  },
  {
   "cell_type": "code",
   "execution_count": 15,
   "metadata": {},
   "outputs": [
    {
     "data": {
      "text/plain": [
       "28"
      ]
     },
     "execution_count": 15,
     "metadata": {},
     "output_type": "execute_result"
    }
   ],
   "source": [
    "len(vocab)"
   ]
  },
  {
   "cell_type": "code",
   "execution_count": null,
   "metadata": {},
   "outputs": [],
   "source": []
  }
 ],
 "metadata": {
  "kernelspec": {
   "display_name": "d2l",
   "language": "python",
   "name": "python3"
  },
  "language_info": {
   "codemirror_mode": {
    "name": "ipython",
    "version": 3
   },
   "file_extension": ".py",
   "mimetype": "text/x-python",
   "name": "python",
   "nbconvert_exporter": "python",
   "pygments_lexer": "ipython3",
   "version": "3.8.13 (default, Mar 28 2022, 06:13:39) \n[Clang 12.0.0 ]"
  },
  "orig_nbformat": 4,
  "vscode": {
   "interpreter": {
    "hash": "86bb26bcf3701c754d5fd40db657c5b7e15a074c1099b32f8fc32052c18ad091"
   }
  }
 },
 "nbformat": 4,
 "nbformat_minor": 2
}
