{
 "cells": [
  {
   "cell_type": "markdown",
   "metadata": {},
   "source": [
    "### iter 内置函数"
   ]
  },
  {
   "cell_type": "code",
   "execution_count": 1,
   "metadata": {},
   "outputs": [
    {
     "data": {
      "text/plain": [
       "[1, 2, 3]"
      ]
     },
     "execution_count": 1,
     "metadata": {},
     "output_type": "execute_result"
    }
   ],
   "source": [
    "a = [1, 2, 3]\n",
    "a"
   ]
  },
  {
   "cell_type": "code",
   "execution_count": 5,
   "metadata": {},
   "outputs": [
    {
     "data": {
      "text/plain": [
       "(1, 2, 3)"
      ]
     },
     "execution_count": 5,
     "metadata": {},
     "output_type": "execute_result"
    }
   ],
   "source": [
    "it = iter(a)\n",
    "next(it), next(it), next(it)"
   ]
  },
  {
   "cell_type": "markdown",
   "metadata": {},
   "source": [
    "### TensorDataset 对象"
   ]
  },
  {
   "cell_type": "code",
   "execution_count": 6,
   "metadata": {},
   "outputs": [],
   "source": [
    "import numpy as np\n",
    "import torch\n",
    "from torch.utils import data\n",
    "from d2l import torch as d2l"
   ]
  },
  {
   "cell_type": "code",
   "execution_count": 7,
   "metadata": {},
   "outputs": [
    {
     "data": {
      "text/plain": [
       "(torch.Tensor, torch.Tensor)"
      ]
     },
     "execution_count": 7,
     "metadata": {},
     "output_type": "execute_result"
    }
   ],
   "source": [
    "true_w = torch.tensor([2, -3.4])\n",
    "true_b = 4.2\n",
    "features, labels = d2l.synthetic_data(true_w, true_b, 1000)\n",
    "type(features), type(labels)"
   ]
  },
  {
   "cell_type": "code",
   "execution_count": 9,
   "metadata": {},
   "outputs": [],
   "source": [
    "dataset = data.TensorDataset(features, labels)"
   ]
  },
  {
   "cell_type": "code",
   "execution_count": 13,
   "metadata": {},
   "outputs": [
    {
     "data": {
      "text/plain": [
       "torch.Size([1000, 2])"
      ]
     },
     "execution_count": 13,
     "metadata": {},
     "output_type": "execute_result"
    }
   ],
   "source": [
    "features.shape"
   ]
  },
  {
   "cell_type": "code",
   "execution_count": 14,
   "metadata": {},
   "outputs": [
    {
     "data": {
      "text/plain": [
       "tensor([[-0.5508, -1.0643],\n",
       "        [-0.1805, -0.6048],\n",
       "        [ 0.0414,  0.2144],\n",
       "        [-0.2203,  1.0309],\n",
       "        [ 0.3030,  0.2973],\n",
       "        [ 1.4278,  1.6690],\n",
       "        [-0.1587, -2.0298],\n",
       "        [-0.4854,  0.1182],\n",
       "        [-0.2017, -0.5720],\n",
       "        [-1.0073,  1.5268]])"
      ]
     },
     "execution_count": 14,
     "metadata": {},
     "output_type": "execute_result"
    }
   ],
   "source": [
    "features[:10]"
   ]
  },
  {
   "cell_type": "code",
   "execution_count": 15,
   "metadata": {},
   "outputs": [
    {
     "data": {
      "text/plain": [
       "tensor([[ 6.7137],\n",
       "        [ 5.8925],\n",
       "        [ 3.5648],\n",
       "        [ 0.2666],\n",
       "        [ 3.7937],\n",
       "        [ 1.3820],\n",
       "        [10.7859],\n",
       "        [ 2.8458],\n",
       "        [ 5.7555],\n",
       "        [-3.0155]])"
      ]
     },
     "execution_count": 15,
     "metadata": {},
     "output_type": "execute_result"
    }
   ],
   "source": [
    "labels[:10]"
   ]
  },
  {
   "cell_type": "code",
   "execution_count": 16,
   "metadata": {},
   "outputs": [
    {
     "data": {
      "text/plain": [
       "(tensor([[-0.5508, -1.0643],\n",
       "         [-0.1805, -0.6048],\n",
       "         [ 0.0414,  0.2144],\n",
       "         [-0.2203,  1.0309],\n",
       "         [ 0.3030,  0.2973],\n",
       "         [ 1.4278,  1.6690],\n",
       "         [-0.1587, -2.0298],\n",
       "         [-0.4854,  0.1182],\n",
       "         [-0.2017, -0.5720],\n",
       "         [-1.0073,  1.5268]]),\n",
       " tensor([[ 6.7137],\n",
       "         [ 5.8925],\n",
       "         [ 3.5648],\n",
       "         [ 0.2666],\n",
       "         [ 3.7937],\n",
       "         [ 1.3820],\n",
       "         [10.7859],\n",
       "         [ 2.8458],\n",
       "         [ 5.7555],\n",
       "         [-3.0155]]))"
      ]
     },
     "execution_count": 16,
     "metadata": {},
     "output_type": "execute_result"
    }
   ],
   "source": [
    "# Dataset 对象\n",
    "# 会把 features 和 labels 两个 tensor 拼接在一个元组里\n",
    "# 并且支持使用切片的方式获取 dataset 中的元素\n",
    "# 返回的元素类型是一个元组\n",
    "# 元组的第 1 个元素是 features, 第 2 个元素是对应的 labels\n",
    "dataset[:10]"
   ]
  },
  {
   "cell_type": "markdown",
   "metadata": {},
   "source": [
    "### Dataloader 对象\n",
    "\n",
    "Data loader. Combines a dataset and a sampler, and provides an iterable over\n",
    "the given dataset\n",
    "\n",
    "```\n",
    "data.DataLoader(\n",
    "    dataset: torch.utils.data.dataset.Dataset[+T_co],\n",
    "    batch_size: Optional[int] = 1,\n",
    "    shuffle: bool = False,\n",
    "    sampler: Union[torch.utils.data.sampler.Sampler, Iterable, NoneType] = None,\n",
    "    batch_sampler: Union[torch.utils.data.sampler.Sampler[Sequence], Iterable[Sequence], NoneType] = None,\n",
    "    num_workers: int = 0,\n",
    "    collate_fn: Optional[Callable[[List[~T]], Any]] = None,\n",
    "    pin_memory: bool = False,\n",
    "    drop_last: bool = False,\n",
    "    timeout: float = 0,\n",
    "    worker_init_fn: Optional[Callable[[int], NoneType]] = None,\n",
    "    multiprocessing_context=None,\n",
    "    generator=None,\n",
    "    *,\n",
    "    prefetch_factor: int = 2,\n",
    "    persistent_workers: bool = False,\n",
    ")\n",
    "```"
   ]
  },
  {
   "cell_type": "code",
   "execution_count": 23,
   "metadata": {},
   "outputs": [],
   "source": [
    "# TensorDataSet 对象仅仅是对数据做了一个整理合并\n",
    "# TensorDataSet 对象可以进行遍历但是每次遍历出来的数据个数不能自己指定\n",
    "# DataLoader 对象可以生成一个迭代器\n",
    "# 并且可以指定一次遍历出来多少条传入的 dataset 中的样本数据\n",
    "data_loader = data.DataLoader(dataset, 10, shuffle=True)"
   ]
  },
  {
   "cell_type": "code",
   "execution_count": null,
   "metadata": {},
   "outputs": [],
   "source": []
  }
 ],
 "metadata": {
  "kernelspec": {
   "display_name": "d2l",
   "language": "python",
   "name": "python3"
  },
  "language_info": {
   "codemirror_mode": {
    "name": "ipython",
    "version": 3
   },
   "file_extension": ".py",
   "mimetype": "text/x-python",
   "name": "python",
   "nbconvert_exporter": "python",
   "pygments_lexer": "ipython3",
   "version": "3.8.13 (default, Mar 28 2022, 06:13:39) \n[Clang 12.0.0 ]"
  },
  "orig_nbformat": 4,
  "vscode": {
   "interpreter": {
    "hash": "86bb26bcf3701c754d5fd40db657c5b7e15a074c1099b32f8fc32052c18ad091"
   }
  }
 },
 "nbformat": 4,
 "nbformat_minor": 2
}
