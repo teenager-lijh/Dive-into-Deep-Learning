{
 "cells": [
  {
   "cell_type": "code",
   "execution_count": 123,
   "metadata": {
    "collapsed": true
   },
   "outputs": [],
   "source": [
    "import torch\n",
    "from torch import nn\n",
    "\n",
    "def corr2d(X, K):  #@save\n",
    "    \"\"\"Compute 2D cross-correlation.\"\"\"\n",
    "    h, w = K.shape\n",
    "    Y = torch.zeros((X.shape[0] - h + 1, X.shape[1] - w + 1))\n",
    "    for i in range(Y.shape[0]):\n",
    "        for j in range(Y.shape[1]):\n",
    "            Y[i, j] = (X[i:i + h, j:j + w] * K).sum()\n",
    "    return Y"
   ]
  },
  {
   "cell_type": "markdown",
   "source": [
    "## 测试 2D 卷积运算"
   ],
   "metadata": {
    "collapsed": false
   }
  },
  {
   "cell_type": "code",
   "execution_count": 124,
   "outputs": [
    {
     "data": {
      "text/plain": "tensor([[19., 25.],\n        [37., 43.]])"
     },
     "execution_count": 124,
     "metadata": {},
     "output_type": "execute_result"
    }
   ],
   "source": [
    "X = torch.tensor([[0.0, 1.0, 2.0], [3.0, 4.0, 5.0], [6.0, 7.0, 8.0]])\n",
    "K = torch.tensor([[0.0, 1.0], [2.0, 3.0]])\n",
    "corr2d(X, K)"
   ],
   "metadata": {
    "collapsed": false
   }
  },
  {
   "cell_type": "markdown",
   "source": [
    "## 卷积2D网络"
   ],
   "metadata": {
    "collapsed": false
   }
  },
  {
   "cell_type": "code",
   "execution_count": 125,
   "outputs": [],
   "source": [
    "class Conv2D(nn.Module):\n",
    "    def __init__(self, kernel_size):\n",
    "        super().__init__()\n",
    "\n",
    "        # 传入具体的值给 Parameter\n",
    "        self.weight = nn.Parameter(torch.rand(kernel_size))\n",
    "        self.bias = nn.Parameter(torch.zeros(1))\n",
    "\n",
    "    def forward(self, X):\n",
    "        return corr2d(X, self.weight)"
   ],
   "metadata": {
    "collapsed": false
   }
  },
  {
   "cell_type": "code",
   "execution_count": 126,
   "outputs": [
    {
     "data": {
      "text/plain": "(Parameter containing:\n tensor([[0.3308, 0.8742],\n         [0.9866, 0.7376]], requires_grad=True),\n tensor([[1., 1., 1.],\n         [1., 1., 1.],\n         [1., 1., 1.]]),\n tensor([[2.9292, 2.9292],\n         [2.9292, 2.9292]], grad_fn=<CopySlices>))"
     },
     "execution_count": 126,
     "metadata": {},
     "output_type": "execute_result"
    }
   ],
   "source": [
    "conv = Conv2D(kernel_size=(2, 2))\n",
    "\n",
    "X = torch.tensor([[1.0, 1.0, 1.0], [1.0, 1.0, 1.0], [1.0, 1.0, 1.0]])\n",
    "Y = conv(X)\n",
    "\n",
    "conv.weight, X, Y"
   ],
   "metadata": {
    "collapsed": false
   }
  },
  {
   "cell_type": "markdown",
   "source": [
    "## 边缘检测应用"
   ],
   "metadata": {
    "collapsed": false
   }
  },
  {
   "cell_type": "code",
   "execution_count": 127,
   "outputs": [
    {
     "data": {
      "text/plain": "tensor([[1., 1., 0., 0., 0., 0., 1., 1.],\n        [1., 1., 0., 0., 0., 0., 1., 1.],\n        [1., 1., 0., 0., 0., 0., 1., 1.],\n        [1., 1., 0., 0., 0., 0., 1., 1.],\n        [1., 1., 0., 0., 0., 0., 1., 1.],\n        [1., 1., 0., 0., 0., 0., 1., 1.]])"
     },
     "execution_count": 127,
     "metadata": {},
     "output_type": "execute_result"
    }
   ],
   "source": [
    "X = torch.ones((6, 8))\n",
    "X[:, 2:6] = 0\n",
    "X"
   ],
   "metadata": {
    "collapsed": false
   }
  },
  {
   "cell_type": "code",
   "execution_count": 128,
   "outputs": [
    {
     "data": {
      "text/plain": "tensor([[ 0.,  1.,  0.,  0.,  0., -1.,  0.],\n        [ 0.,  1.,  0.,  0.,  0., -1.,  0.],\n        [ 0.,  1.,  0.,  0.,  0., -1.,  0.],\n        [ 0.,  1.,  0.,  0.,  0., -1.,  0.],\n        [ 0.,  1.,  0.,  0.,  0., -1.,  0.],\n        [ 0.,  1.,  0.,  0.,  0., -1.,  0.]])"
     },
     "execution_count": 128,
     "metadata": {},
     "output_type": "execute_result"
    }
   ],
   "source": [
    "K = torch.tensor([[1.0, -1.0]])\n",
    "Y = corr2d(X, K)\n",
    "Y"
   ],
   "metadata": {
    "collapsed": false
   }
  },
  {
   "cell_type": "markdown",
   "source": [
    "## 自动学习边缘检测 kernel"
   ],
   "metadata": {
    "collapsed": false
   }
  },
  {
   "cell_type": "code",
   "execution_count": 129,
   "outputs": [
    {
     "data": {
      "text/plain": "(tensor([[[[1., 1., 0., 0., 0., 0., 1., 1.],\n           [1., 1., 0., 0., 0., 0., 1., 1.],\n           [1., 1., 0., 0., 0., 0., 1., 1.],\n           [1., 1., 0., 0., 0., 0., 1., 1.],\n           [1., 1., 0., 0., 0., 0., 1., 1.],\n           [1., 1., 0., 0., 0., 0., 1., 1.]]]]),\n tensor([[[[ 0.,  1.,  0.,  0.,  0., -1.,  0.],\n           [ 0.,  1.,  0.,  0.,  0., -1.,  0.],\n           [ 0.,  1.,  0.,  0.,  0., -1.,  0.],\n           [ 0.,  1.,  0.,  0.,  0., -1.,  0.],\n           [ 0.,  1.,  0.,  0.,  0., -1.,  0.],\n           [ 0.,  1.,  0.,  0.,  0., -1.,  0.]]]]))"
     },
     "execution_count": 129,
     "metadata": {},
     "output_type": "execute_result"
    }
   ],
   "source": [
    "conv2d = nn.Conv2d(1, 1, (1, 2), bias=False)\n",
    "\n",
    "# 批量大小, 通道数, 高, 宽\n",
    "X = X.reshape(1, 1, 6, 8)\n",
    "Y = Y.reshape(1, 1, 6, 7)\n",
    "X, Y"
   ],
   "metadata": {
    "collapsed": false
   }
  },
  {
   "cell_type": "code",
   "execution_count": 130,
   "outputs": [
    {
     "name": "stdout",
     "output_type": "stream",
     "text": [
      "Epochs is 1, loss is 9.272306442260742\n",
      "Epochs is 2, loss is 4.873329162597656\n",
      "Epochs is 3, loss is 3.4047627449035645\n",
      "Epochs is 4, loss is 2.577585458755493\n",
      "Epochs is 5, loss is 1.9866318702697754\n",
      "Epochs is 6, loss is 1.5369356870651245\n",
      "Epochs is 7, loss is 1.1899610757827759\n",
      "Epochs is 8, loss is 0.9214671850204468\n",
      "Epochs is 9, loss is 0.7135779857635498\n",
      "Epochs is 10, loss is 0.5525938272476196\n",
      "Epochs is 11, loss is 0.4279283583164215\n",
      "Epochs is 12, loss is 0.3313876688480377\n",
      "Epochs is 13, loss is 0.2566266357898712\n",
      "Epochs is 14, loss is 0.19873164594173431\n",
      "Epochs is 15, loss is 0.15389779210090637\n",
      "Epochs is 16, loss is 0.1191784143447876\n",
      "Epochs is 17, loss is 0.09229173511266708\n",
      "Epochs is 18, loss is 0.071470707654953\n",
      "Epochs is 19, loss is 0.05534692853689194\n",
      "Epochs is 20, loss is 0.04286065697669983\n"
     ]
    }
   ],
   "source": [
    "for i in range(20):\n",
    "    Y_hat = conv2d(X)\n",
    "    l = (Y_hat - Y) ** 2\n",
    "    conv2d.zero_grad()\n",
    "    l.sum().backward()\n",
    "\n",
    "    # 梯度下降\n",
    "    # 切片操作就是 in-place 操作\n",
    "    conv2d.weight.data[:] -= 0.01 * conv2d.weight.grad\n",
    "\n",
    "    print(f'Epochs is {i+1}, loss is {l.sum()}')"
   ],
   "metadata": {
    "collapsed": false
   }
  },
  {
   "cell_type": "code",
   "execution_count": 131,
   "outputs": [
    {
     "data": {
      "text/plain": "Parameter containing:\ntensor([[[[ 0.9474, -0.9474]]]], requires_grad=True)"
     },
     "execution_count": 131,
     "metadata": {},
     "output_type": "execute_result"
    }
   ],
   "source": [
    "conv2d.weight"
   ],
   "metadata": {
    "collapsed": false
   }
  }
 ],
 "metadata": {
  "kernelspec": {
   "display_name": "Python 3",
   "language": "python",
   "name": "python3"
  },
  "language_info": {
   "codemirror_mode": {
    "name": "ipython",
    "version": 2
   },
   "file_extension": ".py",
   "mimetype": "text/x-python",
   "name": "python",
   "nbconvert_exporter": "python",
   "pygments_lexer": "ipython2",
   "version": "2.7.6"
  }
 },
 "nbformat": 4,
 "nbformat_minor": 0
}
